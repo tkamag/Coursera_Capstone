# Capstone Project Notebook
This notebook is mainly use for the first capstone project, first between many others.

import pandas as pd
import numpy as np

print('Hello Capstone Project Course!')
